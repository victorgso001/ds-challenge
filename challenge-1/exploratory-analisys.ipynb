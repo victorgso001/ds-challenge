{
 "cells": [
  {
   "cell_type": "markdown",
   "metadata": {},
   "source": [
    "# Challenge - 1st scenery"
   ]
  },
  {
   "cell_type": "markdown",
   "metadata": {},
   "source": [
    "This document aims to solve the first proposed scenery, which is data analysis in a given dataset. It will be aimed to verify anomalies, propose futher investigation and solutions to mitigate the founded issues."
   ]
  },
  {
   "cell_type": "markdown",
   "metadata": {},
   "source": [
    "## Dataset load and requirements installation"
   ]
  },
  {
   "cell_type": "code",
   "execution_count": 65,
   "metadata": {},
   "outputs": [
    {
     "name": "stdout",
     "output_type": "stream",
     "text": [
      "Requirement already satisfied: numpy in /home/victor/anaconda3/envs/ds-challenge/lib/python3.8/site-packages (from -r requirements.txt (line 1)) (1.24.4)\n",
      "Requirement already satisfied: pandas in /home/victor/anaconda3/envs/ds-challenge/lib/python3.8/site-packages (from -r requirements.txt (line 2)) (2.0.3)\n",
      "Requirement already satisfied: xlrd in /home/victor/anaconda3/envs/ds-challenge/lib/python3.8/site-packages (from -r requirements.txt (line 3)) (2.0.1)\n",
      "Requirement already satisfied: seaborn in /home/victor/anaconda3/envs/ds-challenge/lib/python3.8/site-packages (from -r requirements.txt (line 4)) (0.12.2)\n",
      "Collecting pandera (from -r requirements.txt (line 5))\n",
      "  Obtaining dependency information for pandera from https://files.pythonhosted.org/packages/cc/63/c43878e71ad1b290a90d312842287e61359e9744f1744b15a392eec513f5/pandera-0.16.1-py3-none-any.whl.metadata\n",
      "  Downloading pandera-0.16.1-py3-none-any.whl.metadata (16 kB)\n",
      "Requirement already satisfied: python-dateutil>=2.8.2 in /home/victor/anaconda3/envs/ds-challenge/lib/python3.8/site-packages (from pandas->-r requirements.txt (line 2)) (2.8.2)\n",
      "Requirement already satisfied: pytz>=2020.1 in /home/victor/anaconda3/envs/ds-challenge/lib/python3.8/site-packages (from pandas->-r requirements.txt (line 2)) (2023.3)\n",
      "Requirement already satisfied: tzdata>=2022.1 in /home/victor/anaconda3/envs/ds-challenge/lib/python3.8/site-packages (from pandas->-r requirements.txt (line 2)) (2023.3)\n",
      "Requirement already satisfied: matplotlib!=3.6.1,>=3.1 in /home/victor/anaconda3/envs/ds-challenge/lib/python3.8/site-packages (from seaborn->-r requirements.txt (line 4)) (3.7.2)\n",
      "Collecting multimethod (from pandera->-r requirements.txt (line 5))\n",
      "  Downloading multimethod-1.9.1-py3-none-any.whl (10 kB)\n",
      "Requirement already satisfied: packaging>=20.0 in /home/victor/anaconda3/envs/ds-challenge/lib/python3.8/site-packages (from pandera->-r requirements.txt (line 5)) (23.1)\n",
      "Collecting pydantic<2.0.0 (from pandera->-r requirements.txt (line 5))\n",
      "  Obtaining dependency information for pydantic<2.0.0 from https://files.pythonhosted.org/packages/5d/68/7a0c5f8b854d3fad9cd82a6312205025597481e46b4ec36f6dea4f1fb93b/pydantic-1.10.12-cp38-cp38-manylinux_2_17_x86_64.manylinux2014_x86_64.whl.metadata\n",
      "  Downloading pydantic-1.10.12-cp38-cp38-manylinux_2_17_x86_64.manylinux2014_x86_64.whl.metadata (149 kB)\n",
      "\u001b[2K     \u001b[90m━━━━━━━━━━━━━━━━━━━━━━━━━━━━━━━━━━━━━━━\u001b[0m \u001b[32m149.3/149.3 kB\u001b[0m \u001b[31m2.4 MB/s\u001b[0m eta \u001b[36m0:00:00\u001b[0ma \u001b[36m0:00:01\u001b[0m\n",
      "\u001b[?25hCollecting typeguard>=3.0.2 (from pandera->-r requirements.txt (line 5))\n",
      "  Obtaining dependency information for typeguard>=3.0.2 from https://files.pythonhosted.org/packages/c4/9d/0918045e44d305ffe1e4c474e81049a2f036b7dec4d4d35483d2b72f353e/typeguard-4.1.0-py3-none-any.whl.metadata\n",
      "  Downloading typeguard-4.1.0-py3-none-any.whl.metadata (3.7 kB)\n",
      "Collecting typing-inspect>=0.6.0 (from pandera->-r requirements.txt (line 5))\n",
      "  Obtaining dependency information for typing-inspect>=0.6.0 from https://files.pythonhosted.org/packages/65/f3/107a22063bf27bdccf2024833d3445f4eea42b2e598abfbd46f6a63b6cb0/typing_inspect-0.9.0-py3-none-any.whl.metadata\n",
      "  Downloading typing_inspect-0.9.0-py3-none-any.whl.metadata (1.5 kB)\n",
      "Collecting wrapt (from pandera->-r requirements.txt (line 5))\n",
      "  Downloading wrapt-1.15.0-cp38-cp38-manylinux_2_5_x86_64.manylinux1_x86_64.manylinux_2_17_x86_64.manylinux2014_x86_64.whl (81 kB)\n",
      "\u001b[2K     \u001b[90m━━━━━━━━━━━━━━━━━━━━━━━━━━━━━━━━━━━━━━━━\u001b[0m \u001b[32m81.5/81.5 kB\u001b[0m \u001b[31m6.8 MB/s\u001b[0m eta \u001b[36m0:00:00\u001b[0m\n",
      "\u001b[?25hRequirement already satisfied: contourpy>=1.0.1 in /home/victor/anaconda3/envs/ds-challenge/lib/python3.8/site-packages (from matplotlib!=3.6.1,>=3.1->seaborn->-r requirements.txt (line 4)) (1.1.0)\n",
      "Requirement already satisfied: cycler>=0.10 in /home/victor/anaconda3/envs/ds-challenge/lib/python3.8/site-packages (from matplotlib!=3.6.1,>=3.1->seaborn->-r requirements.txt (line 4)) (0.11.0)\n",
      "Requirement already satisfied: fonttools>=4.22.0 in /home/victor/anaconda3/envs/ds-challenge/lib/python3.8/site-packages (from matplotlib!=3.6.1,>=3.1->seaborn->-r requirements.txt (line 4)) (4.41.1)\n",
      "Requirement already satisfied: kiwisolver>=1.0.1 in /home/victor/anaconda3/envs/ds-challenge/lib/python3.8/site-packages (from matplotlib!=3.6.1,>=3.1->seaborn->-r requirements.txt (line 4)) (1.4.4)\n",
      "Requirement already satisfied: pillow>=6.2.0 in /home/victor/anaconda3/envs/ds-challenge/lib/python3.8/site-packages (from matplotlib!=3.6.1,>=3.1->seaborn->-r requirements.txt (line 4)) (10.0.0)\n",
      "Requirement already satisfied: pyparsing<3.1,>=2.3.1 in /home/victor/anaconda3/envs/ds-challenge/lib/python3.8/site-packages (from matplotlib!=3.6.1,>=3.1->seaborn->-r requirements.txt (line 4)) (3.0.9)\n",
      "Requirement already satisfied: importlib-resources>=3.2.0 in /home/victor/anaconda3/envs/ds-challenge/lib/python3.8/site-packages (from matplotlib!=3.6.1,>=3.1->seaborn->-r requirements.txt (line 4)) (6.0.0)\n",
      "Requirement already satisfied: typing-extensions>=4.2.0 in /home/victor/anaconda3/envs/ds-challenge/lib/python3.8/site-packages (from pydantic<2.0.0->pandera->-r requirements.txt (line 5)) (4.7.1)\n",
      "Requirement already satisfied: six>=1.5 in /home/victor/anaconda3/envs/ds-challenge/lib/python3.8/site-packages (from python-dateutil>=2.8.2->pandas->-r requirements.txt (line 2)) (1.16.0)\n",
      "Collecting importlib-metadata>=3.6 (from typeguard>=3.0.2->pandera->-r requirements.txt (line 5))\n",
      "  Obtaining dependency information for importlib-metadata>=3.6 from https://files.pythonhosted.org/packages/cc/37/db7ba97e676af155f5fcb1a35466f446eadc9104e25b83366e8088c9c926/importlib_metadata-6.8.0-py3-none-any.whl.metadata\n",
      "  Downloading importlib_metadata-6.8.0-py3-none-any.whl.metadata (5.1 kB)\n",
      "Collecting mypy-extensions>=0.3.0 (from typing-inspect>=0.6.0->pandera->-r requirements.txt (line 5))\n",
      "  Downloading mypy_extensions-1.0.0-py3-none-any.whl (4.7 kB)\n",
      "Requirement already satisfied: zipp>=0.5 in /home/victor/anaconda3/envs/ds-challenge/lib/python3.8/site-packages (from importlib-metadata>=3.6->typeguard>=3.0.2->pandera->-r requirements.txt (line 5)) (3.16.2)\n",
      "Downloading pandera-0.16.1-py3-none-any.whl (201 kB)\n",
      "\u001b[2K   \u001b[90m━━━━━━━━━━━━━━━━━━━━━━━━━━━━━━━━━━━━━━━━\u001b[0m \u001b[32m201.6/201.6 kB\u001b[0m \u001b[31m7.5 MB/s\u001b[0m eta \u001b[36m0:00:00\u001b[0m\n",
      "\u001b[?25hDownloading pydantic-1.10.12-cp38-cp38-manylinux_2_17_x86_64.manylinux2014_x86_64.whl (3.2 MB)\n",
      "\u001b[2K   \u001b[90m━━━━━━━━━━━━━━━━━━━━━━━━━━━━━━━━━━━━━━━━\u001b[0m \u001b[32m3.2/3.2 MB\u001b[0m \u001b[31m24.8 MB/s\u001b[0m eta \u001b[36m0:00:00\u001b[0m00:01\u001b[0m00:01\u001b[0m\n",
      "\u001b[?25hDownloading typeguard-4.1.0-py3-none-any.whl (33 kB)\n",
      "Downloading typing_inspect-0.9.0-py3-none-any.whl (8.8 kB)\n",
      "Downloading importlib_metadata-6.8.0-py3-none-any.whl (22 kB)\n",
      "Installing collected packages: wrapt, pydantic, mypy-extensions, multimethod, importlib-metadata, typing-inspect, typeguard, pandera\n",
      "Successfully installed importlib-metadata-6.8.0 multimethod-1.9.1 mypy-extensions-1.0.0 pandera-0.16.1 pydantic-1.10.12 typeguard-4.1.0 typing-inspect-0.9.0 wrapt-1.15.0\n",
      "Note: you may need to restart the kernel to use updated packages.\n"
     ]
    }
   ],
   "source": [
    "%pip install -r requirements.txt"
   ]
  },
  {
   "cell_type": "code",
   "execution_count": 32,
   "metadata": {},
   "outputs": [],
   "source": [
    "import pandas as pd\n",
    "import numpy as np\n",
    "import seaborn as sns"
   ]
  },
  {
   "cell_type": "code",
   "execution_count": 10,
   "metadata": {},
   "outputs": [
    {
     "data": {
      "text/html": [
       "<div>\n",
       "<style scoped>\n",
       "    .dataframe tbody tr th:only-of-type {\n",
       "        vertical-align: middle;\n",
       "    }\n",
       "\n",
       "    .dataframe tbody tr th {\n",
       "        vertical-align: top;\n",
       "    }\n",
       "\n",
       "    .dataframe thead th {\n",
       "        text-align: right;\n",
       "    }\n",
       "</style>\n",
       "<table border=\"1\" class=\"dataframe\">\n",
       "  <thead>\n",
       "    <tr style=\"text-align: right;\">\n",
       "      <th></th>\n",
       "      <th>Row ID</th>\n",
       "      <th>Order ID</th>\n",
       "      <th>Order Date</th>\n",
       "      <th>Ship Date</th>\n",
       "      <th>Ship Mode</th>\n",
       "      <th>Customer ID</th>\n",
       "      <th>Customer Name</th>\n",
       "      <th>Segment</th>\n",
       "      <th>Country</th>\n",
       "      <th>City</th>\n",
       "      <th>...</th>\n",
       "      <th>Postal Code</th>\n",
       "      <th>Region</th>\n",
       "      <th>Product ID</th>\n",
       "      <th>Category</th>\n",
       "      <th>Sub-Category</th>\n",
       "      <th>Product Name</th>\n",
       "      <th>Sales</th>\n",
       "      <th>Quantity</th>\n",
       "      <th>Discount</th>\n",
       "      <th>Profit</th>\n",
       "    </tr>\n",
       "  </thead>\n",
       "  <tbody>\n",
       "    <tr>\n",
       "      <th>0</th>\n",
       "      <td>1</td>\n",
       "      <td>CA-2016-152156</td>\n",
       "      <td>2016-11-08</td>\n",
       "      <td>2016-11-11</td>\n",
       "      <td>Second Class</td>\n",
       "      <td>CG-12520</td>\n",
       "      <td>Claire Gute</td>\n",
       "      <td>Consumer</td>\n",
       "      <td>United States</td>\n",
       "      <td>Henderson</td>\n",
       "      <td>...</td>\n",
       "      <td>42420</td>\n",
       "      <td>South</td>\n",
       "      <td>FUR-BO-10001798</td>\n",
       "      <td>Furniture</td>\n",
       "      <td>Bookcases</td>\n",
       "      <td>Bush Somerset Collection Bookcase</td>\n",
       "      <td>261.96</td>\n",
       "      <td>2</td>\n",
       "      <td>0.0</td>\n",
       "      <td>41.9136</td>\n",
       "    </tr>\n",
       "    <tr>\n",
       "      <th>1</th>\n",
       "      <td>2</td>\n",
       "      <td>CA-2016-152156</td>\n",
       "      <td>2016-11-08</td>\n",
       "      <td>2016-11-11</td>\n",
       "      <td>Second Class</td>\n",
       "      <td>CG-12520</td>\n",
       "      <td>Claire Gute</td>\n",
       "      <td>Consumer</td>\n",
       "      <td>United States</td>\n",
       "      <td>Henderson</td>\n",
       "      <td>...</td>\n",
       "      <td>42420</td>\n",
       "      <td>South</td>\n",
       "      <td>FUR-CH-10000454</td>\n",
       "      <td>Furniture</td>\n",
       "      <td>Chairs</td>\n",
       "      <td>Hon Deluxe Fabric Upholstered Stacking Chairs,...</td>\n",
       "      <td>731.94</td>\n",
       "      <td>3</td>\n",
       "      <td>0.0</td>\n",
       "      <td>219.5820</td>\n",
       "    </tr>\n",
       "    <tr>\n",
       "      <th>2</th>\n",
       "      <td>3</td>\n",
       "      <td>CA-2016-138688</td>\n",
       "      <td>2016-06-12</td>\n",
       "      <td>2016-06-16</td>\n",
       "      <td>Second Class</td>\n",
       "      <td>DV-13045</td>\n",
       "      <td>Darrin Van Huff</td>\n",
       "      <td>Corporate</td>\n",
       "      <td>United States</td>\n",
       "      <td>Los Angeles</td>\n",
       "      <td>...</td>\n",
       "      <td>90036</td>\n",
       "      <td>West</td>\n",
       "      <td>OFF-LA-10000240</td>\n",
       "      <td>Office Supplies</td>\n",
       "      <td>Labels</td>\n",
       "      <td>Self-Adhesive Address Labels for Typewriters b...</td>\n",
       "      <td>14.62</td>\n",
       "      <td>2</td>\n",
       "      <td>0.0</td>\n",
       "      <td>6.8714</td>\n",
       "    </tr>\n",
       "  </tbody>\n",
       "</table>\n",
       "<p>3 rows × 21 columns</p>\n",
       "</div>"
      ],
      "text/plain": [
       "   Row ID        Order ID Order Date  Ship Date     Ship Mode Customer ID  \\\n",
       "0       1  CA-2016-152156 2016-11-08 2016-11-11  Second Class    CG-12520   \n",
       "1       2  CA-2016-152156 2016-11-08 2016-11-11  Second Class    CG-12520   \n",
       "2       3  CA-2016-138688 2016-06-12 2016-06-16  Second Class    DV-13045   \n",
       "\n",
       "     Customer Name    Segment        Country         City  ... Postal Code  \\\n",
       "0      Claire Gute   Consumer  United States    Henderson  ...       42420   \n",
       "1      Claire Gute   Consumer  United States    Henderson  ...       42420   \n",
       "2  Darrin Van Huff  Corporate  United States  Los Angeles  ...       90036   \n",
       "\n",
       "   Region       Product ID         Category Sub-Category  \\\n",
       "0   South  FUR-BO-10001798        Furniture    Bookcases   \n",
       "1   South  FUR-CH-10000454        Furniture       Chairs   \n",
       "2    West  OFF-LA-10000240  Office Supplies       Labels   \n",
       "\n",
       "                                        Product Name   Sales  Quantity  \\\n",
       "0                  Bush Somerset Collection Bookcase  261.96         2   \n",
       "1  Hon Deluxe Fabric Upholstered Stacking Chairs,...  731.94         3   \n",
       "2  Self-Adhesive Address Labels for Typewriters b...   14.62         2   \n",
       "\n",
       "   Discount    Profit  \n",
       "0       0.0   41.9136  \n",
       "1       0.0  219.5820  \n",
       "2       0.0    6.8714  \n",
       "\n",
       "[3 rows x 21 columns]"
      ]
     },
     "execution_count": 10,
     "metadata": {},
     "output_type": "execute_result"
    }
   ],
   "source": [
    "df = pd.read_excel('./sample.xls')\n",
    "\n",
    "df.head(3)"
   ]
  },
  {
   "cell_type": "code",
   "execution_count": 23,
   "metadata": {},
   "outputs": [
    {
     "data": {
      "text/html": [
       "<div>\n",
       "<style scoped>\n",
       "    .dataframe tbody tr th:only-of-type {\n",
       "        vertical-align: middle;\n",
       "    }\n",
       "\n",
       "    .dataframe tbody tr th {\n",
       "        vertical-align: top;\n",
       "    }\n",
       "\n",
       "    .dataframe thead th {\n",
       "        text-align: right;\n",
       "    }\n",
       "</style>\n",
       "<table border=\"1\" class=\"dataframe\">\n",
       "  <thead>\n",
       "    <tr style=\"text-align: right;\">\n",
       "      <th></th>\n",
       "      <th>Row ID</th>\n",
       "      <th>Order ID</th>\n",
       "      <th>Order Date</th>\n",
       "      <th>Ship Date</th>\n",
       "      <th>Ship Mode</th>\n",
       "      <th>Customer ID</th>\n",
       "      <th>Customer Name</th>\n",
       "      <th>Segment</th>\n",
       "      <th>Country</th>\n",
       "      <th>City</th>\n",
       "      <th>...</th>\n",
       "      <th>Postal Code</th>\n",
       "      <th>Region</th>\n",
       "      <th>Product ID</th>\n",
       "      <th>Category</th>\n",
       "      <th>Sub-Category</th>\n",
       "      <th>Product Name</th>\n",
       "      <th>Sales</th>\n",
       "      <th>Quantity</th>\n",
       "      <th>Discount</th>\n",
       "      <th>Profit</th>\n",
       "    </tr>\n",
       "  </thead>\n",
       "  <tbody>\n",
       "    <tr>\n",
       "      <th>9991</th>\n",
       "      <td>9992</td>\n",
       "      <td>CA-2017-121258</td>\n",
       "      <td>2017-02-26</td>\n",
       "      <td>2017-03-03</td>\n",
       "      <td>Standard Class</td>\n",
       "      <td>DB-13060</td>\n",
       "      <td>Dave Brooks</td>\n",
       "      <td>Consumer</td>\n",
       "      <td>United States</td>\n",
       "      <td>Costa Mesa</td>\n",
       "      <td>...</td>\n",
       "      <td>92627</td>\n",
       "      <td>West</td>\n",
       "      <td>TEC-PH-10003645</td>\n",
       "      <td>Technology</td>\n",
       "      <td>Phones</td>\n",
       "      <td>Aastra 57i VoIP phone</td>\n",
       "      <td>258.576</td>\n",
       "      <td>2</td>\n",
       "      <td>0.2</td>\n",
       "      <td>19.3932</td>\n",
       "    </tr>\n",
       "    <tr>\n",
       "      <th>9992</th>\n",
       "      <td>9993</td>\n",
       "      <td>CA-2017-121258</td>\n",
       "      <td>2017-02-26</td>\n",
       "      <td>2017-03-03</td>\n",
       "      <td>Standard Class</td>\n",
       "      <td>DB-13060</td>\n",
       "      <td>Dave Brooks</td>\n",
       "      <td>Consumer</td>\n",
       "      <td>United States</td>\n",
       "      <td>Costa Mesa</td>\n",
       "      <td>...</td>\n",
       "      <td>92627</td>\n",
       "      <td>West</td>\n",
       "      <td>OFF-PA-10004041</td>\n",
       "      <td>Office Supplies</td>\n",
       "      <td>Paper</td>\n",
       "      <td>It's Hot Message Books with Stickers, 2 3/4\" x 5\"</td>\n",
       "      <td>29.600</td>\n",
       "      <td>4</td>\n",
       "      <td>0.0</td>\n",
       "      <td>13.3200</td>\n",
       "    </tr>\n",
       "    <tr>\n",
       "      <th>9993</th>\n",
       "      <td>9994</td>\n",
       "      <td>CA-2017-119914</td>\n",
       "      <td>2017-05-04</td>\n",
       "      <td>2017-05-09</td>\n",
       "      <td>Second Class</td>\n",
       "      <td>CC-12220</td>\n",
       "      <td>Chris Cortes</td>\n",
       "      <td>Consumer</td>\n",
       "      <td>United States</td>\n",
       "      <td>Westminster</td>\n",
       "      <td>...</td>\n",
       "      <td>92683</td>\n",
       "      <td>West</td>\n",
       "      <td>OFF-AP-10002684</td>\n",
       "      <td>Office Supplies</td>\n",
       "      <td>Appliances</td>\n",
       "      <td>Acco 7-Outlet Masterpiece Power Center, Wihtou...</td>\n",
       "      <td>243.160</td>\n",
       "      <td>2</td>\n",
       "      <td>0.0</td>\n",
       "      <td>72.9480</td>\n",
       "    </tr>\n",
       "  </tbody>\n",
       "</table>\n",
       "<p>3 rows × 21 columns</p>\n",
       "</div>"
      ],
      "text/plain": [
       "      Row ID        Order ID Order Date  Ship Date       Ship Mode  \\\n",
       "9991    9992  CA-2017-121258 2017-02-26 2017-03-03  Standard Class   \n",
       "9992    9993  CA-2017-121258 2017-02-26 2017-03-03  Standard Class   \n",
       "9993    9994  CA-2017-119914 2017-05-04 2017-05-09    Second Class   \n",
       "\n",
       "     Customer ID Customer Name   Segment        Country         City  ...  \\\n",
       "9991    DB-13060   Dave Brooks  Consumer  United States   Costa Mesa  ...   \n",
       "9992    DB-13060   Dave Brooks  Consumer  United States   Costa Mesa  ...   \n",
       "9993    CC-12220  Chris Cortes  Consumer  United States  Westminster  ...   \n",
       "\n",
       "     Postal Code  Region       Product ID         Category Sub-Category  \\\n",
       "9991       92627    West  TEC-PH-10003645       Technology       Phones   \n",
       "9992       92627    West  OFF-PA-10004041  Office Supplies        Paper   \n",
       "9993       92683    West  OFF-AP-10002684  Office Supplies   Appliances   \n",
       "\n",
       "                                           Product Name    Sales  Quantity  \\\n",
       "9991                              Aastra 57i VoIP phone  258.576         2   \n",
       "9992  It's Hot Message Books with Stickers, 2 3/4\" x 5\"   29.600         4   \n",
       "9993  Acco 7-Outlet Masterpiece Power Center, Wihtou...  243.160         2   \n",
       "\n",
       "      Discount   Profit  \n",
       "9991       0.2  19.3932  \n",
       "9992       0.0  13.3200  \n",
       "9993       0.0  72.9480  \n",
       "\n",
       "[3 rows x 21 columns]"
      ]
     },
     "execution_count": 23,
     "metadata": {},
     "output_type": "execute_result"
    }
   ],
   "source": [
    "df.tail(3)"
   ]
  },
  {
   "cell_type": "code",
   "execution_count": 17,
   "metadata": {},
   "outputs": [
    {
     "data": {
      "text/plain": [
       "(9994, 21)"
      ]
     },
     "execution_count": 17,
     "metadata": {},
     "output_type": "execute_result"
    }
   ],
   "source": [
    "df.shape"
   ]
  },
  {
   "cell_type": "code",
   "execution_count": 16,
   "metadata": {},
   "outputs": [
    {
     "data": {
      "text/plain": [
       "9994"
      ]
     },
     "execution_count": 16,
     "metadata": {},
     "output_type": "execute_result"
    }
   ],
   "source": [
    "len(df)"
   ]
  },
  {
   "cell_type": "code",
   "execution_count": 20,
   "metadata": {},
   "outputs": [
    {
     "name": "stdout",
     "output_type": "stream",
     "text": [
      "<class 'pandas.core.frame.DataFrame'>\n",
      "RangeIndex: 9994 entries, 0 to 9993\n",
      "Data columns (total 21 columns):\n",
      " #   Column         Non-Null Count  Dtype         \n",
      "---  ------         --------------  -----         \n",
      " 0   Row ID         9994 non-null   int64         \n",
      " 1   Order ID       9994 non-null   object        \n",
      " 2   Order Date     9994 non-null   datetime64[ns]\n",
      " 3   Ship Date      9994 non-null   datetime64[ns]\n",
      " 4   Ship Mode      9994 non-null   object        \n",
      " 5   Customer ID    9994 non-null   object        \n",
      " 6   Customer Name  9994 non-null   object        \n",
      " 7   Segment        9994 non-null   object        \n",
      " 8   Country        9994 non-null   object        \n",
      " 9   City           9994 non-null   object        \n",
      " 10  State          9994 non-null   object        \n",
      " 11  Postal Code    9994 non-null   int64         \n",
      " 12  Region         9994 non-null   object        \n",
      " 13  Product ID     9994 non-null   object        \n",
      " 14  Category       9994 non-null   object        \n",
      " 15  Sub-Category   9994 non-null   object        \n",
      " 16  Product Name   9994 non-null   object        \n",
      " 17  Sales          9994 non-null   float64       \n",
      " 18  Quantity       9994 non-null   int64         \n",
      " 19  Discount       9994 non-null   float64       \n",
      " 20  Profit         9994 non-null   float64       \n",
      "dtypes: datetime64[ns](2), float64(3), int64(3), object(13)\n",
      "memory usage: 1.6+ MB\n"
     ]
    }
   ],
   "source": [
    "df.info()"
   ]
  },
  {
   "cell_type": "markdown",
   "metadata": {},
   "source": [
    "By the above dataframe info, it's possible to check that there is a few numeric variables, with the most part as categorical, with no missing values. Let's explore further to confirm this information."
   ]
  },
  {
   "cell_type": "code",
   "execution_count": 25,
   "metadata": {},
   "outputs": [
    {
     "name": "stdout",
     "output_type": "stream",
     "text": [
      "Row ID: 9994\n",
      "Order ID: 5009\n",
      "Order Date: 1237\n",
      "Ship Date: 1334\n",
      "Ship Mode: 4\n",
      "Customer ID: 793\n",
      "Customer Name: 793\n",
      "Segment: 3\n",
      "Country: 1\n",
      "City: 531\n",
      "State: 49\n",
      "Postal Code: 631\n",
      "Region: 4\n",
      "Product ID: 1862\n",
      "Category: 3\n",
      "Sub-Category: 17\n",
      "Product Name: 1850\n",
      "Sales: 6144\n",
      "Quantity: 14\n",
      "Discount: 12\n",
      "Profit: 7545\n"
     ]
    }
   ],
   "source": [
    "for col in df.columns:\n",
    "    print(\"{}: {}\".format(col, len(df[col].unique())))"
   ]
  },
  {
   "cell_type": "code",
   "execution_count": 26,
   "metadata": {},
   "outputs": [
    {
     "name": "stdout",
     "output_type": "stream",
     "text": [
      "['Second Class' 'Standard Class' 'First Class' 'Same Day']\n"
     ]
    }
   ],
   "source": [
    "print(df['Ship Mode'].unique())"
   ]
  },
  {
   "cell_type": "code",
   "execution_count": 27,
   "metadata": {},
   "outputs": [
    {
     "name": "stdout",
     "output_type": "stream",
     "text": [
      "['Consumer' 'Corporate' 'Home Office']\n"
     ]
    }
   ],
   "source": [
    "print(df['Segment'].unique())"
   ]
  },
  {
   "cell_type": "code",
   "execution_count": 28,
   "metadata": {},
   "outputs": [
    {
     "name": "stdout",
     "output_type": "stream",
     "text": [
      "['South' 'West' 'Central' 'East']\n"
     ]
    }
   ],
   "source": [
    "print(df['Region'].unique())"
   ]
  },
  {
   "cell_type": "code",
   "execution_count": 29,
   "metadata": {},
   "outputs": [
    {
     "name": "stdout",
     "output_type": "stream",
     "text": [
      "['Furniture' 'Office Supplies' 'Technology']\n"
     ]
    }
   ],
   "source": [
    "print(df['Category'].unique())"
   ]
  },
  {
   "cell_type": "code",
   "execution_count": 30,
   "metadata": {},
   "outputs": [
    {
     "name": "stdout",
     "output_type": "stream",
     "text": [
      "['Bookcases' 'Chairs' 'Labels' 'Tables' 'Storage' 'Furnishings' 'Art'\n",
      " 'Phones' 'Binders' 'Appliances' 'Paper' 'Accessories' 'Envelopes'\n",
      " 'Fasteners' 'Supplies' 'Machines' 'Copiers']\n"
     ]
    }
   ],
   "source": [
    "print(df['Sub-Category'].unique())"
   ]
  },
  {
   "cell_type": "markdown",
   "metadata": {},
   "source": [
    "Since there is no missing values, let's procceed with our investigation. Now, we will be focusing on numeric variables."
   ]
  },
  {
   "cell_type": "code",
   "execution_count": 18,
   "metadata": {},
   "outputs": [
    {
     "data": {
      "text/html": [
       "<div>\n",
       "<style scoped>\n",
       "    .dataframe tbody tr th:only-of-type {\n",
       "        vertical-align: middle;\n",
       "    }\n",
       "\n",
       "    .dataframe tbody tr th {\n",
       "        vertical-align: top;\n",
       "    }\n",
       "\n",
       "    .dataframe thead th {\n",
       "        text-align: right;\n",
       "    }\n",
       "</style>\n",
       "<table border=\"1\" class=\"dataframe\">\n",
       "  <thead>\n",
       "    <tr style=\"text-align: right;\">\n",
       "      <th></th>\n",
       "      <th>Sales</th>\n",
       "      <th>Quantity</th>\n",
       "      <th>Discount</th>\n",
       "      <th>Profit</th>\n",
       "    </tr>\n",
       "  </thead>\n",
       "  <tbody>\n",
       "    <tr>\n",
       "      <th>count</th>\n",
       "      <td>9994.000000</td>\n",
       "      <td>9994.000000</td>\n",
       "      <td>9994.000000</td>\n",
       "      <td>9994.000000</td>\n",
       "    </tr>\n",
       "    <tr>\n",
       "      <th>mean</th>\n",
       "      <td>229.858001</td>\n",
       "      <td>3.789574</td>\n",
       "      <td>0.156203</td>\n",
       "      <td>28.656896</td>\n",
       "    </tr>\n",
       "    <tr>\n",
       "      <th>std</th>\n",
       "      <td>623.245101</td>\n",
       "      <td>2.225110</td>\n",
       "      <td>0.206452</td>\n",
       "      <td>234.260108</td>\n",
       "    </tr>\n",
       "    <tr>\n",
       "      <th>min</th>\n",
       "      <td>0.444000</td>\n",
       "      <td>1.000000</td>\n",
       "      <td>0.000000</td>\n",
       "      <td>-6599.978000</td>\n",
       "    </tr>\n",
       "    <tr>\n",
       "      <th>25%</th>\n",
       "      <td>17.280000</td>\n",
       "      <td>2.000000</td>\n",
       "      <td>0.000000</td>\n",
       "      <td>1.728750</td>\n",
       "    </tr>\n",
       "    <tr>\n",
       "      <th>50%</th>\n",
       "      <td>54.490000</td>\n",
       "      <td>3.000000</td>\n",
       "      <td>0.200000</td>\n",
       "      <td>8.666500</td>\n",
       "    </tr>\n",
       "    <tr>\n",
       "      <th>75%</th>\n",
       "      <td>209.940000</td>\n",
       "      <td>5.000000</td>\n",
       "      <td>0.200000</td>\n",
       "      <td>29.364000</td>\n",
       "    </tr>\n",
       "    <tr>\n",
       "      <th>max</th>\n",
       "      <td>22638.480000</td>\n",
       "      <td>14.000000</td>\n",
       "      <td>0.800000</td>\n",
       "      <td>8399.976000</td>\n",
       "    </tr>\n",
       "  </tbody>\n",
       "</table>\n",
       "</div>"
      ],
      "text/plain": [
       "              Sales     Quantity     Discount       Profit\n",
       "count   9994.000000  9994.000000  9994.000000  9994.000000\n",
       "mean     229.858001     3.789574     0.156203    28.656896\n",
       "std      623.245101     2.225110     0.206452   234.260108\n",
       "min        0.444000     1.000000     0.000000 -6599.978000\n",
       "25%       17.280000     2.000000     0.000000     1.728750\n",
       "50%       54.490000     3.000000     0.200000     8.666500\n",
       "75%      209.940000     5.000000     0.200000    29.364000\n",
       "max    22638.480000    14.000000     0.800000  8399.976000"
      ]
     },
     "execution_count": 18,
     "metadata": {},
     "output_type": "execute_result"
    }
   ],
   "source": [
    "df[['Sales', 'Quantity', 'Discount', 'Profit']].describe()"
   ]
  },
  {
   "cell_type": "markdown",
   "metadata": {},
   "source": [
    "It is possible also to view data through some plots, to verify possible outliers."
   ]
  },
  {
   "cell_type": "code",
   "execution_count": 33,
   "metadata": {},
   "outputs": [
    {
     "data": {
      "text/plain": [
       "<Axes: xlabel='Sales'>"
      ]
     },
     "execution_count": 33,
     "metadata": {},
     "output_type": "execute_result"
    },
    {
     "data": {
      "image/png": "[encoded data removed]",
      "text/plain": [
       "<Figure size 640x480 with 1 Axes>"
      ]
     },
     "metadata": {},
     "output_type": "display_data"
    }
   ],
   "source": [
    "sns.boxplot(x=df['Sales'])"
   ]
  },
  {
   "cell_type": "code",
   "execution_count": 36,
   "metadata": {},
   "outputs": [
    {
     "data": {
      "text/plain": [
       "<Axes: xlabel='Sales', ylabel='Count'>"
      ]
     },
     "execution_count": 36,
     "metadata": {},
     "output_type": "execute_result"
    },
    {
     "data": {
      "image/png": "[encoded data removed]",
      "text/plain": [
       "<Figure size 640x480 with 1 Axes>"
      ]
     },
     "metadata": {},
     "output_type": "display_data"
    }
   ],
   "source": [
    "sns.histplot(x=df['Sales'])"
   ]
  },
  {
   "cell_type": "markdown",
   "metadata": {},
   "source": [
    "Using Sales column, it is possible to verify an interesting behaviour. Let's check some of these records."
   ]
  },
  {
   "cell_type": "code",
   "execution_count": 38,
   "metadata": {},
   "outputs": [
    {
     "data": {
      "text/plain": [
       "Row ID           19\n",
       "Order ID         19\n",
       "Order Date       19\n",
       "Ship Date        19\n",
       "Ship Mode        19\n",
       "Customer ID      19\n",
       "Customer Name    19\n",
       "Segment          19\n",
       "Country          19\n",
       "City             19\n",
       "State            19\n",
       "Postal Code      19\n",
       "Region           19\n",
       "Product ID       19\n",
       "Category         19\n",
       "Sub-Category     19\n",
       "Product Name     19\n",
       "Sales            19\n",
       "Quantity         19\n",
       "Discount         19\n",
       "Profit           19\n",
       "dtype: int64"
      ]
     },
     "execution_count": 38,
     "metadata": {},
     "output_type": "execute_result"
    }
   ],
   "source": [
    "sales_df = df[df['Sales'] > 5000]\n",
    "\n",
    "sales_df.count()"
   ]
  },
  {
   "cell_type": "code",
   "execution_count": 45,
   "metadata": {},
   "outputs": [
    {
     "data": {
      "text/html": [
       "<div>\n",
       "<style scoped>\n",
       "    .dataframe tbody tr th:only-of-type {\n",
       "        vertical-align: middle;\n",
       "    }\n",
       "\n",
       "    .dataframe tbody tr th {\n",
       "        vertical-align: top;\n",
       "    }\n",
       "\n",
       "    .dataframe thead th {\n",
       "        text-align: right;\n",
       "    }\n",
       "</style>\n",
       "<table border=\"1\" class=\"dataframe\">\n",
       "  <thead>\n",
       "    <tr style=\"text-align: right;\">\n",
       "      <th></th>\n",
       "      <th>Row ID</th>\n",
       "      <th>Order Date</th>\n",
       "      <th>Ship Date</th>\n",
       "      <th>Postal Code</th>\n",
       "      <th>Sales</th>\n",
       "      <th>Quantity</th>\n",
       "      <th>Discount</th>\n",
       "      <th>Profit</th>\n",
       "    </tr>\n",
       "  </thead>\n",
       "  <tbody>\n",
       "    <tr>\n",
       "      <th>count</th>\n",
       "      <td>19.000000</td>\n",
       "      <td>19</td>\n",
       "      <td>19</td>\n",
       "      <td>19.000000</td>\n",
       "      <td>19.000000</td>\n",
       "      <td>19.000000</td>\n",
       "      <td>19.000000</td>\n",
       "      <td>19.000000</td>\n",
       "    </tr>\n",
       "    <tr>\n",
       "      <th>mean</th>\n",
       "      <td>5089.842105</td>\n",
       "      <td>2016-05-13 00:00:00</td>\n",
       "      <td>2016-05-17 00:00:00</td>\n",
       "      <td>39971.736842</td>\n",
       "      <td>9487.429263</td>\n",
       "      <td>5.473684</td>\n",
       "      <td>0.115789</td>\n",
       "      <td>2475.331563</td>\n",
       "    </tr>\n",
       "    <tr>\n",
       "      <th>min</th>\n",
       "      <td>166.000000</td>\n",
       "      <td>2014-03-18 00:00:00</td>\n",
       "      <td>2014-03-23 00:00:00</td>\n",
       "      <td>2908.000000</td>\n",
       "      <td>5083.960000</td>\n",
       "      <td>3.000000</td>\n",
       "      <td>0.000000</td>\n",
       "      <td>-3839.990400</td>\n",
       "    </tr>\n",
       "    <tr>\n",
       "      <th>25%</th>\n",
       "      <td>2661.000000</td>\n",
       "      <td>2015-01-29 00:00:00</td>\n",
       "      <td>2015-02-04 12:00:00</td>\n",
       "      <td>14577.500000</td>\n",
       "      <td>6677.455000</td>\n",
       "      <td>4.000000</td>\n",
       "      <td>0.000000</td>\n",
       "      <td>1235.993200</td>\n",
       "    </tr>\n",
       "    <tr>\n",
       "      <th>50%</th>\n",
       "      <td>6341.000000</td>\n",
       "      <td>2016-10-02 00:00:00</td>\n",
       "      <td>2016-10-08 00:00:00</td>\n",
       "      <td>30318.000000</td>\n",
       "      <td>8399.976000</td>\n",
       "      <td>5.000000</td>\n",
       "      <td>0.000000</td>\n",
       "      <td>2504.221600</td>\n",
       "    </tr>\n",
       "    <tr>\n",
       "      <th>75%</th>\n",
       "      <td>7247.000000</td>\n",
       "      <td>2017-06-29 00:00:00</td>\n",
       "      <td>2017-07-02 00:00:00</td>\n",
       "      <td>52304.000000</td>\n",
       "      <td>10196.355000</td>\n",
       "      <td>5.500000</td>\n",
       "      <td>0.200000</td>\n",
       "      <td>4275.232150</td>\n",
       "    </tr>\n",
       "    <tr>\n",
       "      <th>max</th>\n",
       "      <td>9040.000000</td>\n",
       "      <td>2017-11-17 00:00:00</td>\n",
       "      <td>2017-11-22 00:00:00</td>\n",
       "      <td>98115.000000</td>\n",
       "      <td>22638.480000</td>\n",
       "      <td>13.000000</td>\n",
       "      <td>0.500000</td>\n",
       "      <td>8399.976000</td>\n",
       "    </tr>\n",
       "    <tr>\n",
       "      <th>std</th>\n",
       "      <td>2922.439967</td>\n",
       "      <td>NaN</td>\n",
       "      <td>NaN</td>\n",
       "      <td>31505.621066</td>\n",
       "      <td>4447.273206</td>\n",
       "      <td>2.365690</td>\n",
       "      <td>0.189336</td>\n",
       "      <td>2927.035705</td>\n",
       "    </tr>\n",
       "  </tbody>\n",
       "</table>\n",
       "</div>"
      ],
      "text/plain": [
       "            Row ID           Order Date            Ship Date   Postal Code  \\\n",
       "count    19.000000                   19                   19     19.000000   \n",
       "mean   5089.842105  2016-05-13 00:00:00  2016-05-17 00:00:00  39971.736842   \n",
       "min     166.000000  2014-03-18 00:00:00  2014-03-23 00:00:00   2908.000000   \n",
       "25%    2661.000000  2015-01-29 00:00:00  2015-02-04 12:00:00  14577.500000   \n",
       "50%    6341.000000  2016-10-02 00:00:00  2016-10-08 00:00:00  30318.000000   \n",
       "75%    7247.000000  2017-06-29 00:00:00  2017-07-02 00:00:00  52304.000000   \n",
       "max    9040.000000  2017-11-17 00:00:00  2017-11-22 00:00:00  98115.000000   \n",
       "std    2922.439967                  NaN                  NaN  31505.621066   \n",
       "\n",
       "              Sales   Quantity   Discount       Profit  \n",
       "count     19.000000  19.000000  19.000000    19.000000  \n",
       "mean    9487.429263   5.473684   0.115789  2475.331563  \n",
       "min     5083.960000   3.000000   0.000000 -3839.990400  \n",
       "25%     6677.455000   4.000000   0.000000  1235.993200  \n",
       "50%     8399.976000   5.000000   0.000000  2504.221600  \n",
       "75%    10196.355000   5.500000   0.200000  4275.232150  \n",
       "max    22638.480000  13.000000   0.500000  8399.976000  \n",
       "std     4447.273206   2.365690   0.189336  2927.035705  "
      ]
     },
     "execution_count": 45,
     "metadata": {},
     "output_type": "execute_result"
    }
   ],
   "source": [
    "sales_df.describe()"
   ]
  },
  {
   "cell_type": "code",
   "execution_count": 46,
   "metadata": {},
   "outputs": [
    {
     "data": {
      "text/html": [
       "<div>\n",
       "<style scoped>\n",
       "    .dataframe tbody tr th:only-of-type {\n",
       "        vertical-align: middle;\n",
       "    }\n",
       "\n",
       "    .dataframe tbody tr th {\n",
       "        vertical-align: top;\n",
       "    }\n",
       "\n",
       "    .dataframe thead th {\n",
       "        text-align: right;\n",
       "    }\n",
       "</style>\n",
       "<table border=\"1\" class=\"dataframe\">\n",
       "  <thead>\n",
       "    <tr style=\"text-align: right;\">\n",
       "      <th></th>\n",
       "      <th>Row ID</th>\n",
       "      <th>Order ID</th>\n",
       "      <th>Order Date</th>\n",
       "      <th>Ship Date</th>\n",
       "      <th>Ship Mode</th>\n",
       "      <th>Customer ID</th>\n",
       "      <th>Customer Name</th>\n",
       "      <th>Segment</th>\n",
       "      <th>Country</th>\n",
       "      <th>City</th>\n",
       "      <th>...</th>\n",
       "      <th>Postal Code</th>\n",
       "      <th>Region</th>\n",
       "      <th>Product ID</th>\n",
       "      <th>Category</th>\n",
       "      <th>Sub-Category</th>\n",
       "      <th>Product Name</th>\n",
       "      <th>Sales</th>\n",
       "      <th>Quantity</th>\n",
       "      <th>Discount</th>\n",
       "      <th>Profit</th>\n",
       "    </tr>\n",
       "  </thead>\n",
       "  <tbody>\n",
       "    <tr>\n",
       "      <th>165</th>\n",
       "      <td>166</td>\n",
       "      <td>CA-2014-139892</td>\n",
       "      <td>2014-09-08</td>\n",
       "      <td>2014-09-12</td>\n",
       "      <td>Standard Class</td>\n",
       "      <td>BM-11140</td>\n",
       "      <td>Becky Martin</td>\n",
       "      <td>Consumer</td>\n",
       "      <td>United States</td>\n",
       "      <td>San Antonio</td>\n",
       "      <td>...</td>\n",
       "      <td>78207</td>\n",
       "      <td>Central</td>\n",
       "      <td>TEC-MA-10000822</td>\n",
       "      <td>Technology</td>\n",
       "      <td>Machines</td>\n",
       "      <td>Lexmark MX611dhe Monochrome Laser Printer</td>\n",
       "      <td>8159.952</td>\n",
       "      <td>8</td>\n",
       "      <td>0.4</td>\n",
       "      <td>-1359.9920</td>\n",
       "    </tr>\n",
       "    <tr>\n",
       "      <th>509</th>\n",
       "      <td>510</td>\n",
       "      <td>CA-2015-145352</td>\n",
       "      <td>2015-03-16</td>\n",
       "      <td>2015-03-22</td>\n",
       "      <td>Standard Class</td>\n",
       "      <td>CM-12385</td>\n",
       "      <td>Christopher Martinez</td>\n",
       "      <td>Consumer</td>\n",
       "      <td>United States</td>\n",
       "      <td>Atlanta</td>\n",
       "      <td>...</td>\n",
       "      <td>30318</td>\n",
       "      <td>South</td>\n",
       "      <td>OFF-BI-10003527</td>\n",
       "      <td>Office Supplies</td>\n",
       "      <td>Binders</td>\n",
       "      <td>Fellowes PB500 Electric Punch Plastic Comb Bin...</td>\n",
       "      <td>6354.950</td>\n",
       "      <td>5</td>\n",
       "      <td>0.0</td>\n",
       "      <td>3177.4750</td>\n",
       "    </tr>\n",
       "    <tr>\n",
       "      <th>683</th>\n",
       "      <td>684</td>\n",
       "      <td>US-2017-168116</td>\n",
       "      <td>2017-11-04</td>\n",
       "      <td>2017-11-04</td>\n",
       "      <td>Same Day</td>\n",
       "      <td>GT-14635</td>\n",
       "      <td>Grant Thornton</td>\n",
       "      <td>Corporate</td>\n",
       "      <td>United States</td>\n",
       "      <td>Burlington</td>\n",
       "      <td>...</td>\n",
       "      <td>27217</td>\n",
       "      <td>South</td>\n",
       "      <td>TEC-MA-10004125</td>\n",
       "      <td>Technology</td>\n",
       "      <td>Machines</td>\n",
       "      <td>Cubify CubeX 3D Printer Triple Head Print</td>\n",
       "      <td>7999.980</td>\n",
       "      <td>4</td>\n",
       "      <td>0.5</td>\n",
       "      <td>-3839.9904</td>\n",
       "    </tr>\n",
       "    <tr>\n",
       "      <th>2505</th>\n",
       "      <td>2506</td>\n",
       "      <td>CA-2014-143917</td>\n",
       "      <td>2014-07-25</td>\n",
       "      <td>2014-07-27</td>\n",
       "      <td>Second Class</td>\n",
       "      <td>KL-16645</td>\n",
       "      <td>Ken Lonsdale</td>\n",
       "      <td>Consumer</td>\n",
       "      <td>United States</td>\n",
       "      <td>San Francisco</td>\n",
       "      <td>...</td>\n",
       "      <td>94122</td>\n",
       "      <td>West</td>\n",
       "      <td>OFF-SU-10000151</td>\n",
       "      <td>Office Supplies</td>\n",
       "      <td>Supplies</td>\n",
       "      <td>High Speed Automatic Electric Letter Opener</td>\n",
       "      <td>8187.650</td>\n",
       "      <td>5</td>\n",
       "      <td>0.0</td>\n",
       "      <td>327.5060</td>\n",
       "    </tr>\n",
       "    <tr>\n",
       "      <th>2623</th>\n",
       "      <td>2624</td>\n",
       "      <td>CA-2017-127180</td>\n",
       "      <td>2017-10-22</td>\n",
       "      <td>2017-10-24</td>\n",
       "      <td>First Class</td>\n",
       "      <td>TA-21385</td>\n",
       "      <td>Tom Ashbrook</td>\n",
       "      <td>Home Office</td>\n",
       "      <td>United States</td>\n",
       "      <td>New York City</td>\n",
       "      <td>...</td>\n",
       "      <td>10024</td>\n",
       "      <td>East</td>\n",
       "      <td>TEC-CO-10004722</td>\n",
       "      <td>Technology</td>\n",
       "      <td>Copiers</td>\n",
       "      <td>Canon imageCLASS 2200 Advanced Copier</td>\n",
       "      <td>11199.968</td>\n",
       "      <td>4</td>\n",
       "      <td>0.2</td>\n",
       "      <td>3919.9888</td>\n",
       "    </tr>\n",
       "  </tbody>\n",
       "</table>\n",
       "<p>5 rows × 21 columns</p>\n",
       "</div>"
      ],
      "text/plain": [
       "      Row ID        Order ID Order Date  Ship Date       Ship Mode  \\\n",
       "165      166  CA-2014-139892 2014-09-08 2014-09-12  Standard Class   \n",
       "509      510  CA-2015-145352 2015-03-16 2015-03-22  Standard Class   \n",
       "683      684  US-2017-168116 2017-11-04 2017-11-04        Same Day   \n",
       "2505    2506  CA-2014-143917 2014-07-25 2014-07-27    Second Class   \n",
       "2623    2624  CA-2017-127180 2017-10-22 2017-10-24     First Class   \n",
       "\n",
       "     Customer ID         Customer Name      Segment        Country  \\\n",
       "165     BM-11140          Becky Martin     Consumer  United States   \n",
       "509     CM-12385  Christopher Martinez     Consumer  United States   \n",
       "683     GT-14635        Grant Thornton    Corporate  United States   \n",
       "2505    KL-16645          Ken Lonsdale     Consumer  United States   \n",
       "2623    TA-21385          Tom Ashbrook  Home Office  United States   \n",
       "\n",
       "               City  ... Postal Code   Region       Product ID  \\\n",
       "165     San Antonio  ...       78207  Central  TEC-MA-10000822   \n",
       "509         Atlanta  ...       30318    South  OFF-BI-10003527   \n",
       "683      Burlington  ...       27217    South  TEC-MA-10004125   \n",
       "2505  San Francisco  ...       94122     West  OFF-SU-10000151   \n",
       "2623  New York City  ...       10024     East  TEC-CO-10004722   \n",
       "\n",
       "             Category Sub-Category  \\\n",
       "165        Technology     Machines   \n",
       "509   Office Supplies      Binders   \n",
       "683        Technology     Machines   \n",
       "2505  Office Supplies     Supplies   \n",
       "2623       Technology      Copiers   \n",
       "\n",
       "                                           Product Name      Sales  Quantity  \\\n",
       "165           Lexmark MX611dhe Monochrome Laser Printer   8159.952         8   \n",
       "509   Fellowes PB500 Electric Punch Plastic Comb Bin...   6354.950         5   \n",
       "683           Cubify CubeX 3D Printer Triple Head Print   7999.980         4   \n",
       "2505        High Speed Automatic Electric Letter Opener   8187.650         5   \n",
       "2623              Canon imageCLASS 2200 Advanced Copier  11199.968         4   \n",
       "\n",
       "      Discount     Profit  \n",
       "165        0.4 -1359.9920  \n",
       "509        0.0  3177.4750  \n",
       "683        0.5 -3839.9904  \n",
       "2505       0.0   327.5060  \n",
       "2623       0.2  3919.9888  \n",
       "\n",
       "[5 rows x 21 columns]"
      ]
     },
     "execution_count": 46,
     "metadata": {},
     "output_type": "execute_result"
    }
   ],
   "source": [
    "sales_df.head()"
   ]
  },
  {
   "cell_type": "markdown",
   "metadata": {},
   "source": [
    "Proceeding with the investigation, one can view other plots to verify if the sales outliers is the same as other variables."
   ]
  },
  {
   "cell_type": "code",
   "execution_count": 47,
   "metadata": {},
   "outputs": [
    {
     "data": {
      "text/plain": [
       "<Axes: xlabel='Quantity'>"
      ]
     },
     "execution_count": 47,
     "metadata": {},
     "output_type": "execute_result"
    },
    {
     "data": {
      "image/png": "[encoded data removed]",
      "text/plain": [
       "<Figure size 640x480 with 1 Axes>"
      ]
     },
     "metadata": {},
     "output_type": "display_data"
    }
   ],
   "source": [
    "sns.boxplot(x=df['Quantity'])"
   ]
  },
  {
   "cell_type": "code",
   "execution_count": 48,
   "metadata": {},
   "outputs": [
    {
     "data": {
      "text/plain": [
       "<Axes: xlabel='Quantity', ylabel='Count'>"
      ]
     },
     "execution_count": 48,
     "metadata": {},
     "output_type": "execute_result"
    },
    {
     "data": {
      "image/png": "[encoded data removed]",
      "text/plain": [
       "<Figure size 640x480 with 1 Axes>"
      ]
     },
     "metadata": {},
     "output_type": "display_data"
    }
   ],
   "source": [
    "sns.histplot(x=df['Quantity'])"
   ]
  },
  {
   "cell_type": "code",
   "execution_count": 49,
   "metadata": {},
   "outputs": [
    {
     "data": {
      "text/html": [
       "<div>\n",
       "<style scoped>\n",
       "    .dataframe tbody tr th:only-of-type {\n",
       "        vertical-align: middle;\n",
       "    }\n",
       "\n",
       "    .dataframe tbody tr th {\n",
       "        vertical-align: top;\n",
       "    }\n",
       "\n",
       "    .dataframe thead th {\n",
       "        text-align: right;\n",
       "    }\n",
       "</style>\n",
       "<table border=\"1\" class=\"dataframe\">\n",
       "  <thead>\n",
       "    <tr style=\"text-align: right;\">\n",
       "      <th></th>\n",
       "      <th>Row ID</th>\n",
       "      <th>Order Date</th>\n",
       "      <th>Ship Date</th>\n",
       "      <th>Postal Code</th>\n",
       "      <th>Sales</th>\n",
       "      <th>Quantity</th>\n",
       "      <th>Discount</th>\n",
       "      <th>Profit</th>\n",
       "    </tr>\n",
       "  </thead>\n",
       "  <tbody>\n",
       "    <tr>\n",
       "      <th>count</th>\n",
       "      <td>428.000000</td>\n",
       "      <td>428</td>\n",
       "      <td>428</td>\n",
       "      <td>428.000000</td>\n",
       "      <td>428.000000</td>\n",
       "      <td>428.000000</td>\n",
       "      <td>428.000000</td>\n",
       "      <td>428.000000</td>\n",
       "    </tr>\n",
       "    <tr>\n",
       "      <th>mean</th>\n",
       "      <td>5057.614486</td>\n",
       "      <td>2016-04-16 08:17:56.635514112</td>\n",
       "      <td>2016-04-20 07:51:01.682243072</td>\n",
       "      <td>55155.474299</td>\n",
       "      <td>534.283390</td>\n",
       "      <td>10.044393</td>\n",
       "      <td>0.148575</td>\n",
       "      <td>80.101368</td>\n",
       "    </tr>\n",
       "    <tr>\n",
       "      <th>min</th>\n",
       "      <td>11.000000</td>\n",
       "      <td>2014-01-06 00:00:00</td>\n",
       "      <td>2014-01-10 00:00:00</td>\n",
       "      <td>1841.000000</td>\n",
       "      <td>3.240000</td>\n",
       "      <td>9.000000</td>\n",
       "      <td>0.000000</td>\n",
       "      <td>-1862.312400</td>\n",
       "    </tr>\n",
       "    <tr>\n",
       "      <th>25%</th>\n",
       "      <td>2627.000000</td>\n",
       "      <td>2015-05-12 18:00:00</td>\n",
       "      <td>2015-05-18 06:00:00</td>\n",
       "      <td>21918.500000</td>\n",
       "      <td>54.152000</td>\n",
       "      <td>9.000000</td>\n",
       "      <td>0.000000</td>\n",
       "      <td>9.509625</td>\n",
       "    </tr>\n",
       "    <tr>\n",
       "      <th>50%</th>\n",
       "      <td>5057.500000</td>\n",
       "      <td>2016-05-30 00:00:00</td>\n",
       "      <td>2016-06-03 00:00:00</td>\n",
       "      <td>56573.500000</td>\n",
       "      <td>154.587000</td>\n",
       "      <td>9.000000</td>\n",
       "      <td>0.050000</td>\n",
       "      <td>29.339100</td>\n",
       "    </tr>\n",
       "    <tr>\n",
       "      <th>75%</th>\n",
       "      <td>7594.000000</td>\n",
       "      <td>2017-05-20 00:00:00</td>\n",
       "      <td>2017-05-23 18:00:00</td>\n",
       "      <td>90032.000000</td>\n",
       "      <td>601.089000</td>\n",
       "      <td>11.000000</td>\n",
       "      <td>0.200000</td>\n",
       "      <td>105.281100</td>\n",
       "    </tr>\n",
       "    <tr>\n",
       "      <th>max</th>\n",
       "      <td>9985.000000</td>\n",
       "      <td>2017-12-25 00:00:00</td>\n",
       "      <td>2018-01-01 00:00:00</td>\n",
       "      <td>99207.000000</td>\n",
       "      <td>9892.740000</td>\n",
       "      <td>14.000000</td>\n",
       "      <td>0.800000</td>\n",
       "      <td>4946.370000</td>\n",
       "    </tr>\n",
       "    <tr>\n",
       "      <th>std</th>\n",
       "      <td>2872.736374</td>\n",
       "      <td>NaN</td>\n",
       "      <td>NaN</td>\n",
       "      <td>32868.218947</td>\n",
       "      <td>906.985841</td>\n",
       "      <td>1.597830</td>\n",
       "      <td>0.205170</td>\n",
       "      <td>328.105548</td>\n",
       "    </tr>\n",
       "  </tbody>\n",
       "</table>\n",
       "</div>"
      ],
      "text/plain": [
       "            Row ID                     Order Date  \\\n",
       "count   428.000000                            428   \n",
       "mean   5057.614486  2016-04-16 08:17:56.635514112   \n",
       "min      11.000000            2014-01-06 00:00:00   \n",
       "25%    2627.000000            2015-05-12 18:00:00   \n",
       "50%    5057.500000            2016-05-30 00:00:00   \n",
       "75%    7594.000000            2017-05-20 00:00:00   \n",
       "max    9985.000000            2017-12-25 00:00:00   \n",
       "std    2872.736374                            NaN   \n",
       "\n",
       "                           Ship Date   Postal Code        Sales    Quantity  \\\n",
       "count                            428    428.000000   428.000000  428.000000   \n",
       "mean   2016-04-20 07:51:01.682243072  55155.474299   534.283390   10.044393   \n",
       "min              2014-01-10 00:00:00   1841.000000     3.240000    9.000000   \n",
       "25%              2015-05-18 06:00:00  21918.500000    54.152000    9.000000   \n",
       "50%              2016-06-03 00:00:00  56573.500000   154.587000    9.000000   \n",
       "75%              2017-05-23 18:00:00  90032.000000   601.089000   11.000000   \n",
       "max              2018-01-01 00:00:00  99207.000000  9892.740000   14.000000   \n",
       "std                              NaN  32868.218947   906.985841    1.597830   \n",
       "\n",
       "         Discount       Profit  \n",
       "count  428.000000   428.000000  \n",
       "mean     0.148575    80.101368  \n",
       "min      0.000000 -1862.312400  \n",
       "25%      0.000000     9.509625  \n",
       "50%      0.050000    29.339100  \n",
       "75%      0.200000   105.281100  \n",
       "max      0.800000  4946.370000  \n",
       "std      0.205170   328.105548  "
      ]
     },
     "execution_count": 49,
     "metadata": {},
     "output_type": "execute_result"
    }
   ],
   "source": [
    "quant_df = df[df['Quantity'] > 8]\n",
    "\n",
    "quant_df.describe()"
   ]
  },
  {
   "cell_type": "code",
   "execution_count": 52,
   "metadata": {},
   "outputs": [
    {
     "data": {
      "text/plain": [
       "Order ID\n",
       "False    425\n",
       "True       3\n",
       "Name: count, dtype: int64"
      ]
     },
     "execution_count": 52,
     "metadata": {},
     "output_type": "execute_result"
    }
   ],
   "source": [
    "quant_df['Order ID'].isin(sales_df['Order ID']).value_counts()"
   ]
  },
  {
   "cell_type": "code",
   "execution_count": 54,
   "metadata": {},
   "outputs": [
    {
     "data": {
      "text/plain": [
       "<Axes: xlabel='Discount'>"
      ]
     },
     "execution_count": 54,
     "metadata": {},
     "output_type": "execute_result"
    },
    {
     "data": {
      "image/png": "[encoded data removed]",
      "text/plain": [
       "<Figure size 640x480 with 1 Axes>"
      ]
     },
     "metadata": {},
     "output_type": "display_data"
    }
   ],
   "source": [
    "sns.boxplot(x=df['Discount'])"
   ]
  },
  {
   "cell_type": "code",
   "execution_count": 55,
   "metadata": {},
   "outputs": [
    {
     "data": {
      "text/plain": [
       "Order ID\n",
       "False    854\n",
       "True       2\n",
       "Name: count, dtype: int64"
      ]
     },
     "execution_count": 55,
     "metadata": {},
     "output_type": "execute_result"
    }
   ],
   "source": [
    "discount_df = df[df['Discount'] > 0.5]\n",
    "\n",
    "discount_df['Order ID'].isin(sales_df['Order ID']).value_counts()"
   ]
  },
  {
   "cell_type": "code",
   "execution_count": 56,
   "metadata": {},
   "outputs": [
    {
     "data": {
      "text/plain": [
       "Order ID\n",
       "False    756\n",
       "True     100\n",
       "Name: count, dtype: int64"
      ]
     },
     "execution_count": 56,
     "metadata": {},
     "output_type": "execute_result"
    }
   ],
   "source": [
    "discount_df['Order ID'].isin(quant_df['Order ID']).value_counts()"
   ]
  },
  {
   "cell_type": "code",
   "execution_count": 57,
   "metadata": {},
   "outputs": [
    {
     "data": {
      "text/plain": [
       "<Axes: xlabel='Profit'>"
      ]
     },
     "execution_count": 57,
     "metadata": {},
     "output_type": "execute_result"
    },
    {
     "data": {
      "image/png": "[encoded data removed]",
      "text/plain": [
       "<Figure size 640x480 with 1 Axes>"
      ]
     },
     "metadata": {},
     "output_type": "display_data"
    }
   ],
   "source": [
    "sns.boxplot(x=df['Profit'])"
   ]
  },
  {
   "cell_type": "code",
   "execution_count": 63,
   "metadata": {},
   "outputs": [
    {
     "data": {
      "text/plain": [
       "Order ID\n",
       "False    30\n",
       "True      7\n",
       "Name: count, dtype: int64"
      ]
     },
     "execution_count": 63,
     "metadata": {},
     "output_type": "execute_result"
    }
   ],
   "source": [
    "profit_df = df[(df['Profit'] < -1000) | (df['Profit'] > 2000)]\n",
    "\n",
    "profit_df['Order ID'].isin(quant_df['Order ID']).value_counts()"
   ]
  },
  {
   "cell_type": "code",
   "execution_count": 64,
   "metadata": {},
   "outputs": [
    {
     "data": {
      "text/plain": [
       "Order ID\n",
       "True     19\n",
       "False    18\n",
       "Name: count, dtype: int64"
      ]
     },
     "execution_count": 64,
     "metadata": {},
     "output_type": "execute_result"
    }
   ],
   "source": [
    "profit_df['Order ID'].isin(discount_df['Order ID']).value_counts()"
   ]
  },
  {
   "cell_type": "markdown",
   "metadata": {},
   "source": [
    "## Conclusion"
   ]
  },
  {
   "cell_type": "markdown",
   "metadata": {},
   "source": [
    "As proved above, there is little to none correlation between numerical variables outliers. Hence, it is possible to propose some quality tests to assure that new data will be reliable and stable.\n",
    "\n",
    "The possible tests could be:\n",
    "* Verify if incoming data have some missing values;\n",
    "* For `Orders` table:\n",
    "    * Verify if `Order Date` is less or equal than `Ship Date`;\n",
    "    * If `Order ID` value already exists, check the orther info columns;\n",
    "    * Verify if the values of `Sales`, `Discount`, `Profit` and `Quantity` for outliers based on the inter-quartile range, for instance;\n",
    "* For `Orders` and `People` tables:\n",
    "    * Verify if `Customer Name` in `Orders` table exists in `People` table;\n",
    "\n",
    "With this steps, it will be possible to prevent a wide variety of anomalies that could happen in the dataset. This can be done using some tools and frameworks in data ingestion, such as DBT or pipeline orchestrators, like Airflow or Flyte. In this document, lets check for anomalies using Panderas, an opensource library."
   ]
  },
  {
   "cell_type": "markdown",
   "metadata": {},
   "source": [
    "## Testing with Panderas"
   ]
  },
  {
   "cell_type": "code",
   "execution_count": 103,
   "metadata": {},
   "outputs": [
    {
     "data": {
      "text/html": [
       "<div>\n",
       "<style scoped>\n",
       "    .dataframe tbody tr th:only-of-type {\n",
       "        vertical-align: middle;\n",
       "    }\n",
       "\n",
       "    .dataframe tbody tr th {\n",
       "        vertical-align: top;\n",
       "    }\n",
       "\n",
       "    .dataframe thead th {\n",
       "        text-align: right;\n",
       "    }\n",
       "</style>\n",
       "<table border=\"1\" class=\"dataframe\">\n",
       "  <thead>\n",
       "    <tr style=\"text-align: right;\">\n",
       "      <th></th>\n",
       "      <th>schema_context</th>\n",
       "      <th>column</th>\n",
       "      <th>check</th>\n",
       "      <th>check_number</th>\n",
       "      <th>failure_case</th>\n",
       "      <th>index</th>\n",
       "    </tr>\n",
       "  </thead>\n",
       "  <tbody>\n",
       "    <tr>\n",
       "      <th>0</th>\n",
       "      <td>Column</td>\n",
       "      <td>Sales</td>\n",
       "      <td>less_than_or_equal_to(5000.0)</td>\n",
       "      <td>0</td>\n",
       "      <td>8159.952</td>\n",
       "      <td>165</td>\n",
       "    </tr>\n",
       "    <tr>\n",
       "      <th>294</th>\n",
       "      <td>Column</td>\n",
       "      <td>Quantity</td>\n",
       "      <td>less_than_or_equal_to(8)</td>\n",
       "      <td>0</td>\n",
       "      <td>14.000</td>\n",
       "      <td>6499</td>\n",
       "    </tr>\n",
       "    <tr>\n",
       "      <th>305</th>\n",
       "      <td>Column</td>\n",
       "      <td>Quantity</td>\n",
       "      <td>less_than_or_equal_to(8)</td>\n",
       "      <td>0</td>\n",
       "      <td>9.000</td>\n",
       "      <td>6823</td>\n",
       "    </tr>\n",
       "    <tr>\n",
       "      <th>304</th>\n",
       "      <td>Column</td>\n",
       "      <td>Quantity</td>\n",
       "      <td>less_than_or_equal_to(8)</td>\n",
       "      <td>0</td>\n",
       "      <td>9.000</td>\n",
       "      <td>6777</td>\n",
       "    </tr>\n",
       "    <tr>\n",
       "      <th>303</th>\n",
       "      <td>Column</td>\n",
       "      <td>Quantity</td>\n",
       "      <td>less_than_or_equal_to(8)</td>\n",
       "      <td>0</td>\n",
       "      <td>9.000</td>\n",
       "      <td>6737</td>\n",
       "    </tr>\n",
       "    <tr>\n",
       "      <th>...</th>\n",
       "      <td>...</td>\n",
       "      <td>...</td>\n",
       "      <td>...</td>\n",
       "      <td>...</td>\n",
       "      <td>...</td>\n",
       "      <td>...</td>\n",
       "    </tr>\n",
       "    <tr>\n",
       "      <th>145</th>\n",
       "      <td>Column</td>\n",
       "      <td>Quantity</td>\n",
       "      <td>less_than_or_equal_to(8)</td>\n",
       "      <td>0</td>\n",
       "      <td>11.000</td>\n",
       "      <td>3212</td>\n",
       "    </tr>\n",
       "    <tr>\n",
       "      <th>144</th>\n",
       "      <td>Column</td>\n",
       "      <td>Quantity</td>\n",
       "      <td>less_than_or_equal_to(8)</td>\n",
       "      <td>0</td>\n",
       "      <td>9.000</td>\n",
       "      <td>3209</td>\n",
       "    </tr>\n",
       "    <tr>\n",
       "      <th>143</th>\n",
       "      <td>Column</td>\n",
       "      <td>Quantity</td>\n",
       "      <td>less_than_or_equal_to(8)</td>\n",
       "      <td>0</td>\n",
       "      <td>9.000</td>\n",
       "      <td>3183</td>\n",
       "    </tr>\n",
       "    <tr>\n",
       "      <th>142</th>\n",
       "      <td>Column</td>\n",
       "      <td>Quantity</td>\n",
       "      <td>less_than_or_equal_to(8)</td>\n",
       "      <td>0</td>\n",
       "      <td>13.000</td>\n",
       "      <td>3169</td>\n",
       "    </tr>\n",
       "    <tr>\n",
       "      <th>446</th>\n",
       "      <td>Column</td>\n",
       "      <td>Quantity</td>\n",
       "      <td>less_than_or_equal_to(8)</td>\n",
       "      <td>0</td>\n",
       "      <td>10.000</td>\n",
       "      <td>9984</td>\n",
       "    </tr>\n",
       "  </tbody>\n",
       "</table>\n",
       "<p>447 rows × 6 columns</p>\n",
       "</div>"
      ],
      "text/plain": [
       "    schema_context    column                          check  check_number  \\\n",
       "0           Column     Sales  less_than_or_equal_to(5000.0)             0   \n",
       "294         Column  Quantity       less_than_or_equal_to(8)             0   \n",
       "305         Column  Quantity       less_than_or_equal_to(8)             0   \n",
       "304         Column  Quantity       less_than_or_equal_to(8)             0   \n",
       "303         Column  Quantity       less_than_or_equal_to(8)             0   \n",
       "..             ...       ...                            ...           ...   \n",
       "145         Column  Quantity       less_than_or_equal_to(8)             0   \n",
       "144         Column  Quantity       less_than_or_equal_to(8)             0   \n",
       "143         Column  Quantity       less_than_or_equal_to(8)             0   \n",
       "142         Column  Quantity       less_than_or_equal_to(8)             0   \n",
       "446         Column  Quantity       less_than_or_equal_to(8)             0   \n",
       "\n",
       "     failure_case  index  \n",
       "0        8159.952    165  \n",
       "294        14.000   6499  \n",
       "305         9.000   6823  \n",
       "304         9.000   6777  \n",
       "303         9.000   6737  \n",
       "..            ...    ...  \n",
       "145        11.000   3212  \n",
       "144         9.000   3209  \n",
       "143         9.000   3183  \n",
       "142        13.000   3169  \n",
       "446        10.000   9984  \n",
       "\n",
       "[447 rows x 6 columns]"
      ]
     },
     "execution_count": 103,
     "metadata": {},
     "output_type": "execute_result"
    }
   ],
   "source": [
    "import pandera as pa\n",
    "from pandera.error_handlers import SchemaErrors\n",
    "\n",
    "\n",
    "schema = pa.DataFrameSchema({\n",
    "    \"Sales\": pa.Column(\"float64\", pa.Check(check_fn=None).le(5000.000)),\n",
    "    \"Quantity\": pa.Column(\"int64\", checks=pa.Check(check_fn=None).le(8)),\n",
    "    \"Discount\": pa.Column(\"float64\", checks=pa.Check(check_fn=None).le(0.5)),\n",
    "    \"Discount\": pa.Column(\"float64\", checks=pa.Check(check_fn=None).between(min_value=-1000.0, max_value=2000.0))\n",
    "})\n",
    "\n",
    "\n",
    "try:\n",
    "    output_df = schema.validate(df, lazy=True)\n",
    "except SchemaErrors as err:\n",
    "    output_df = err.failure_cases\n",
    "\n",
    "output_df"
   ]
  },
  {
   "cell_type": "markdown",
   "metadata": {},
   "source": [
    "As we can see, Pandera raise an error if some of the conditions are not met. In this case, there is 447 rows not meeting the conditions setted. Note that this is just an example, as one can perform as many validations as possible."
   ]
  }
 ],
 "metadata": {
  "kernelspec": {
   "display_name": "ds-challenge",
   "language": "python",
   "name": "python3"
  },
  "language_info": {
   "codemirror_mode": {
    "name": "ipython",
    "version": 3
   },
   "file_extension": ".py",
   "mimetype": "text/x-python",
   "name": "python",
   "nbconvert_exporter": "python",
   "pygments_lexer": "ipython3",
   "version": "3.8.17"
  },
  "orig_nbformat": 4
 },
 "nbformat": 4,
 "nbformat_minor": 2
}
